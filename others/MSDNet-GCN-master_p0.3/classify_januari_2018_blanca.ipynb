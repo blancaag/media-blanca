{
 "cells": [
  {
   "cell_type": "code",
   "execution_count": 5,
   "metadata": {},
   "outputs": [],
   "source": [
    "# import spoof_detection\n",
    "import numpy as np\n",
    "import pandas as pd\n",
    "\n",
    "import os\n",
    "import io\n",
    "import PIL\n",
    "import dlib\n",
    "import torch\n",
    "import requests\n",
    "import numpy as np\n",
    "import torch.nn.functional as F\n",
    "from torch.autograd import Variable\n",
    "from scipy.misc import imresize, imread\n",
    "detector = dlib.get_frontal_face_detector()\n",
    "\n",
    "\n",
    "import os\n",
    "import time\n",
    "import torch\n",
    "\n",
    "import os\n",
    "import random\n",
    "import numpy as np\n",
    "from torch.utils.data import Dataset\n",
    "from skimage.color import rgb2hsv, hsv2rgb\n",
    "from scipy.misc import imresize\n",
    "from torch.utils.data.sampler import WeightedRandomSampler\n",
    "import torch.optim as optim\n",
    "from sklearn.metrics import log_loss, roc_auc_score\n",
    "from torch.autograd import Variable\n",
    "from torch.utils.data import DataLoader"
   ]
  },
  {
   "cell_type": "code",
   "execution_count": 2,
   "metadata": {},
   "outputs": [],
   "source": [
    "# from .test_internal import heatmap, test_network\n",
    "# from .utils.networks import *\n",
    "# from .utils.datasets import Internal"
   ]
  },
  {
   "cell_type": "code",
   "execution_count": 3,
   "metadata": {},
   "outputs": [],
   "source": [
    "model_list = ['test', 'test__', 'test_b256_256']\n",
    "\n",
    "datadir = ''\n",
    "savedir = 'results/savedir'\n",
    "evaluate_from = False\n",
    "\n",
    "test_name = 'test'\n",
    "\n",
    "def load_checkpoint(test_name):\n",
    "    if evaluate_from:\n",
    "        print(\"Evaluating from model: \", evaluate_from)\n",
    "        model_filename = evaluate_from\n",
    "    else:\n",
    "        model_dir = os.path.join(os.path.join(savedir, test_name), 'save_models')\n",
    "        latest_filename = os.path.join(model_dir, 'latest.txt')\n",
    "        if os.path.exists(latest_filename):\n",
    "            with open(latest_filename, 'r') as fin:\n",
    "                model_filename = fin.readlines()[0].strip()\n",
    "        else:\n",
    "            return None\n",
    "    print(\"=> loading checkpoint '{}'\".format(model_filename))\n",
    "    state = torch.load(model_filename)\n",
    "    print(\"=> loaded checkpoint '{}'\".format(model_filename))\n",
    "    return state\n",
    "\n",
    "model = load_checkpoint(test_name)\n",
    "\n",
    "if model is not None:\n",
    "            args.start_epoch = checkpoint['epoch'] + 1\n",
    "            best_prec1 = checkpoint['best_prec1']\n",
    "            model.load_state_dict(checkpoint['state_dict'])\n",
    "            optimizer.load_state_dict(checkpoint['optimizer'])"
   ]
  },
  {
   "cell_type": "code",
   "execution_count": null,
   "metadata": {},
   "outputs": [],
   "source": []
  },
  {
   "cell_type": "code",
   "execution_count": 6,
   "metadata": {},
   "outputs": [
    {
     "ename": "AttributeError",
     "evalue": "Can't get attribute '_rebuild_tensor_v2' on <module 'torch._utils' from '/root/miniconda3/lib/python3.6/site-packages/torch/_utils.py'>",
     "output_type": "error",
     "traceback": [
      "\u001b[0;31m---------------------------------------------------------------------------\u001b[0m",
      "\u001b[0;31mAttributeError\u001b[0m                            Traceback (most recent call last)",
      "\u001b[0;32m<ipython-input-6-27853be4940d>\u001b[0m in \u001b[0;36m<module>\u001b[0;34m()\u001b[0m\n\u001b[1;32m      6\u001b[0m \u001b[0;34m\u001b[0m\u001b[0m\n\u001b[1;32m      7\u001b[0m \u001b[0;31m# load model and set to evaluation mode\u001b[0m\u001b[0;34m\u001b[0m\u001b[0;34m\u001b[0m\u001b[0m\n\u001b[0;32m----> 8\u001b[0;31m \u001b[0mmodel\u001b[0m \u001b[0;34m=\u001b[0m \u001b[0mtorch\u001b[0m\u001b[0;34m.\u001b[0m\u001b[0mload\u001b[0m\u001b[0;34m(\u001b[0m\u001b[0mMODEL_LOCATION\u001b[0m\u001b[0;34m)\u001b[0m\u001b[0;34m.\u001b[0m\u001b[0mcuda\u001b[0m\u001b[0;34m(\u001b[0m\u001b[0;34m)\u001b[0m\u001b[0;34m\u001b[0m\u001b[0m\n\u001b[0m\u001b[1;32m      9\u001b[0m \u001b[0mmodel\u001b[0m\u001b[0;34m.\u001b[0m\u001b[0meval\u001b[0m\u001b[0;34m(\u001b[0m\u001b[0;34m)\u001b[0m\u001b[0;34m\u001b[0m\u001b[0m\n\u001b[1;32m     10\u001b[0m \u001b[0mmodel\u001b[0m\u001b[0;34m.\u001b[0m\u001b[0mtrain\u001b[0m\u001b[0;34m(\u001b[0m\u001b[0;32mFalse\u001b[0m\u001b[0;34m)\u001b[0m\u001b[0;34m\u001b[0m\u001b[0m\n",
      "\u001b[0;32m~/miniconda3/lib/python3.6/site-packages/torch/serialization.py\u001b[0m in \u001b[0;36mload\u001b[0;34m(f, map_location, pickle_module)\u001b[0m\n\u001b[1;32m    265\u001b[0m         \u001b[0mf\u001b[0m \u001b[0;34m=\u001b[0m \u001b[0mopen\u001b[0m\u001b[0;34m(\u001b[0m\u001b[0mf\u001b[0m\u001b[0;34m,\u001b[0m \u001b[0;34m'rb'\u001b[0m\u001b[0;34m)\u001b[0m\u001b[0;34m\u001b[0m\u001b[0m\n\u001b[1;32m    266\u001b[0m     \u001b[0;32mtry\u001b[0m\u001b[0;34m:\u001b[0m\u001b[0;34m\u001b[0m\u001b[0m\n\u001b[0;32m--> 267\u001b[0;31m         \u001b[0;32mreturn\u001b[0m \u001b[0m_load\u001b[0m\u001b[0;34m(\u001b[0m\u001b[0mf\u001b[0m\u001b[0;34m,\u001b[0m \u001b[0mmap_location\u001b[0m\u001b[0;34m,\u001b[0m \u001b[0mpickle_module\u001b[0m\u001b[0;34m)\u001b[0m\u001b[0;34m\u001b[0m\u001b[0m\n\u001b[0m\u001b[1;32m    268\u001b[0m     \u001b[0;32mfinally\u001b[0m\u001b[0;34m:\u001b[0m\u001b[0;34m\u001b[0m\u001b[0m\n\u001b[1;32m    269\u001b[0m         \u001b[0;32mif\u001b[0m \u001b[0mnew_fd\u001b[0m\u001b[0;34m:\u001b[0m\u001b[0;34m\u001b[0m\u001b[0m\n",
      "\u001b[0;32m~/miniconda3/lib/python3.6/site-packages/torch/serialization.py\u001b[0m in \u001b[0;36m_load\u001b[0;34m(f, map_location, pickle_module)\u001b[0m\n\u001b[1;32m    418\u001b[0m     \u001b[0munpickler\u001b[0m \u001b[0;34m=\u001b[0m \u001b[0mpickle_module\u001b[0m\u001b[0;34m.\u001b[0m\u001b[0mUnpickler\u001b[0m\u001b[0;34m(\u001b[0m\u001b[0mf\u001b[0m\u001b[0;34m)\u001b[0m\u001b[0;34m\u001b[0m\u001b[0m\n\u001b[1;32m    419\u001b[0m     \u001b[0munpickler\u001b[0m\u001b[0;34m.\u001b[0m\u001b[0mpersistent_load\u001b[0m \u001b[0;34m=\u001b[0m \u001b[0mpersistent_load\u001b[0m\u001b[0;34m\u001b[0m\u001b[0m\n\u001b[0;32m--> 420\u001b[0;31m     \u001b[0mresult\u001b[0m \u001b[0;34m=\u001b[0m \u001b[0munpickler\u001b[0m\u001b[0;34m.\u001b[0m\u001b[0mload\u001b[0m\u001b[0;34m(\u001b[0m\u001b[0;34m)\u001b[0m\u001b[0;34m\u001b[0m\u001b[0m\n\u001b[0m\u001b[1;32m    421\u001b[0m \u001b[0;34m\u001b[0m\u001b[0m\n\u001b[1;32m    422\u001b[0m     \u001b[0mdeserialized_storage_keys\u001b[0m \u001b[0;34m=\u001b[0m \u001b[0mpickle_module\u001b[0m\u001b[0;34m.\u001b[0m\u001b[0mload\u001b[0m\u001b[0;34m(\u001b[0m\u001b[0mf\u001b[0m\u001b[0;34m)\u001b[0m\u001b[0;34m\u001b[0m\u001b[0m\n",
      "\u001b[0;31mAttributeError\u001b[0m: Can't get attribute '_rebuild_tensor_v2' on <module 'torch._utils' from '/root/miniconda3/lib/python3.6/site-packages/torch/_utils.py'>"
     ]
    }
   ],
   "source": [
    "SIZE = 128\n",
    "PATCH_SIZE = 32\n",
    "RESOLUTION = 32\n",
    "# MODEL_LOCATION = os.path.join('utils', 'network_patchnormlr3')\n",
    "MODEL_LOCATION = '/media/dataserver/workspace/blanca/MSDNet-GCN/results/savedir/test/save_models/model_best.pth.tar'\n",
    "\n",
    "# load model and set to evaluation mode\n",
    "model = torch.load(MODEL_LOCATION).cuda()\n",
    "model.eval()\n",
    "model.train(False)"
   ]
  },
  {
   "cell_type": "code",
   "execution_count": null,
   "metadata": {},
   "outputs": [],
   "source": [
    "def detect_face(img):\n",
    "    ''' Detect faces in the image and return a crop of the largest face. '''\n",
    "    # detect faces\n",
    "    dets, conf, _ = detector.run(img)\n",
    "    # filter detections with conf <= 0\n",
    "    dets = [d for d, c in zip(dets,conf) if c > 0]\n",
    "    # if at least one face was detected\n",
    "    if len(dets) > 0:\n",
    "        # calculate face sizes per detection\n",
    "        size = [max(d.bottom(), 0) - max(d.top(), 0) + max(d.right(), 0) - max(d.left(), 0) for d in dets]\n",
    "        # select detection corresponding with largest face\n",
    "        det = dets[np.argmax(size)]\n",
    "        # get face positions\n",
    "        top, bot, left, right = max(det.top(), 0), max(det.bottom(), 0), max(det.left(), 0), max(det.right(), 0)\n",
    "        # return cropped image\n",
    "        return img[top:bot, left:right]\n",
    "    return None\n",
    "\n",
    "def create_heatmap(face_crop):\n",
    "    ''' Select uniformly sampled patches from the face_crop and run them through the network. '''\n",
    "    face_crop = face_crop.transpose(2, 0, 1)\n",
    "    c, h, w = face_crop.shape\n",
    "    # create a batch with uniformly sampled patches\n",
    "    hr = float(h - PATCH_SIZE) / (RESOLUTION - 1)\n",
    "    wr = float(w - PATCH_SIZE) / (RESOLUTION - 1)\n",
    "    batch = np.zeros((RESOLUTION**2, 3, PATCH_SIZE, PATCH_SIZE))\n",
    "    for y in range(RESOLUTION):\n",
    "        for x in range(RESOLUTION):\n",
    "            patch = face_crop[:, int(y * hr):int(y * hr + PATCH_SIZE), int(x * wr):int(x * wr + PATCH_SIZE)]\n",
    "            patch = (patch - np.mean(patch)) / (np.std(patch) + 1e-8)\n",
    "            batch[y * RESOLUTION + x, :, :, :] = patch\n",
    "    # network makes a prediction per patch\n",
    "    inputs = Variable(torch.from_numpy(batch).float(), volatile=True).cuda()\n",
    "    outputs = F.softmax(model(inputs), dim=1).data.cpu().numpy()\n",
    "    #score = np.mean(outputs, 0)[0]\n",
    "    #outputs = model(inputs).data.cpu().numpy()\n",
    "    #score = np.mean(outputs, 0)\n",
    "    #score = np.exp(score)[0] / sum(np.exp(score)) \n",
    "    return score\n",
    "\n",
    "def predict(image):\n",
    "    ''' Turns input image into a spoof attempt prediction. '''\n",
    "    # 1. download image\n",
    "    #url = 'https://imago.onfido.com/api/{}/{}/download'.format('live_photos', str(photo_id))\n",
    "    #im_response = requests.get(url)\n",
    "    #try:\n",
    "    #    image = imread(io.BytesIO(im_response.content))\n",
    "    #except:\n",
    "    #    return 'failed: reading image'\n",
    "    # filter greyscale images\n",
    "    if len(image.shape) is not 3 or image.shape[2] < 3:\n",
    "        return 'failed: image shape'\n",
    "    # remove possible alpha channel\n",
    "    if image.shape[2] > 3: \n",
    "        image = image[:,:,:3]\n",
    "    # get exit and rotate\n",
    "    #img = PIL.Image.open(io.BytesIO(im_response.content))\n",
    "    #if hasattr(img, '_getexif') and img._getexif() is not None and 274 in img._getexif():\n",
    "    #    orientation = img._getexif()[274]\n",
    "    #    if orientation in [3,4]:\n",
    "    #        image = np.rot90(image, 2)\n",
    "    #    if orientation in [5,6]:\n",
    "    #        image = np.rot90(image, 3)\n",
    "    #    if orientation in [7,8]:\n",
    "    #        image = np.rot90(image, 1)\n",
    "    # detect face in image\n",
    "    face_crop = detect_face(image)\n",
    "    if face_crop is None:\n",
    "        return 'failed: face detection'\n",
    "    # resize image\n",
    "    face_crop = imresize(face_crop, (SIZE, SIZE))\n",
    "    # spoof prediction\n",
    "    heatmap = create_heatmap(face_crop)\n",
    "    return heatmap\n",
    "    # transform heatmap into a spoof prediction (1.0 is spoof attack)\n",
    "    spoof_score = heatmap\n",
    "    # also return the most likely class\n",
    "    #most_likely_class = ['genuine sample', 'picture attack', 'screen attack', 'document attack'][np.argmax(np.mean(heatmap, axis=(0, 1)))]\n",
    "    return spoof_score\n"
   ]
  },
  {
   "cell_type": "code",
   "execution_count": 8,
   "metadata": {},
   "outputs": [
    {
     "ename": "FileNotFoundError",
     "evalue": "[Errno 2] No such file or directory: '../warning/warning_ids.npy'",
     "output_type": "error",
     "traceback": [
      "\u001b[0;31m---------------------------------------------------------------------------\u001b[0m",
      "\u001b[0;31mFileNotFoundError\u001b[0m                         Traceback (most recent call last)",
      "\u001b[0;32m<ipython-input-8-88e6dde72f43>\u001b[0m in \u001b[0;36m<module>\u001b[0;34m()\u001b[0m\n\u001b[1;32m      1\u001b[0m \u001b[0;31m# load unique warning and passed live_photo_ids\u001b[0m\u001b[0;34m\u001b[0m\u001b[0;34m\u001b[0m\u001b[0m\n\u001b[0;32m----> 2\u001b[0;31m \u001b[0mwarning_ids\u001b[0m \u001b[0;34m=\u001b[0m \u001b[0mnp\u001b[0m\u001b[0;34m.\u001b[0m\u001b[0mload\u001b[0m\u001b[0;34m(\u001b[0m\u001b[0;34m'../warning/warning_ids.npy'\u001b[0m\u001b[0;34m)\u001b[0m\u001b[0;34m\u001b[0m\u001b[0m\n\u001b[0m\u001b[1;32m      3\u001b[0m \u001b[0mpassed_ids\u001b[0m \u001b[0;34m=\u001b[0m \u001b[0mnp\u001b[0m\u001b[0;34m.\u001b[0m\u001b[0mload\u001b[0m\u001b[0;34m(\u001b[0m\u001b[0;34m'../passed/passed_ids.npy'\u001b[0m\u001b[0;34m)\u001b[0m\u001b[0;34m\u001b[0m\u001b[0m\n\u001b[1;32m      4\u001b[0m \u001b[0mall_ids\u001b[0m \u001b[0;34m=\u001b[0m \u001b[0mlist\u001b[0m\u001b[0;34m(\u001b[0m\u001b[0mset\u001b[0m\u001b[0;34m(\u001b[0m\u001b[0mnp\u001b[0m\u001b[0;34m.\u001b[0m\u001b[0mconcatenate\u001b[0m\u001b[0;34m(\u001b[0m\u001b[0;34m(\u001b[0m\u001b[0mwarning_ids\u001b[0m\u001b[0;34m,\u001b[0m \u001b[0mpassed_ids\u001b[0m\u001b[0;34m)\u001b[0m\u001b[0;34m)\u001b[0m\u001b[0;34m)\u001b[0m\u001b[0;34m)\u001b[0m\u001b[0;34m\u001b[0m\u001b[0m\n\u001b[1;32m      5\u001b[0m \u001b[0mall_ids\u001b[0m\u001b[0;34m.\u001b[0m\u001b[0msort\u001b[0m\u001b[0;34m(\u001b[0m\u001b[0;34m)\u001b[0m\u001b[0;34m\u001b[0m\u001b[0m\n",
      "\u001b[0;32m~/miniconda3/lib/python3.6/site-packages/numpy/lib/npyio.py\u001b[0m in \u001b[0;36mload\u001b[0;34m(file, mmap_mode, allow_pickle, fix_imports, encoding)\u001b[0m\n\u001b[1;32m    368\u001b[0m     \u001b[0mown_fid\u001b[0m \u001b[0;34m=\u001b[0m \u001b[0;32mFalse\u001b[0m\u001b[0;34m\u001b[0m\u001b[0m\n\u001b[1;32m    369\u001b[0m     \u001b[0;32mif\u001b[0m \u001b[0misinstance\u001b[0m\u001b[0;34m(\u001b[0m\u001b[0mfile\u001b[0m\u001b[0;34m,\u001b[0m \u001b[0mbasestring\u001b[0m\u001b[0;34m)\u001b[0m\u001b[0;34m:\u001b[0m\u001b[0;34m\u001b[0m\u001b[0m\n\u001b[0;32m--> 370\u001b[0;31m         \u001b[0mfid\u001b[0m \u001b[0;34m=\u001b[0m \u001b[0mopen\u001b[0m\u001b[0;34m(\u001b[0m\u001b[0mfile\u001b[0m\u001b[0;34m,\u001b[0m \u001b[0;34m\"rb\"\u001b[0m\u001b[0;34m)\u001b[0m\u001b[0;34m\u001b[0m\u001b[0m\n\u001b[0m\u001b[1;32m    371\u001b[0m         \u001b[0mown_fid\u001b[0m \u001b[0;34m=\u001b[0m \u001b[0;32mTrue\u001b[0m\u001b[0;34m\u001b[0m\u001b[0m\n\u001b[1;32m    372\u001b[0m     \u001b[0;32melif\u001b[0m \u001b[0mis_pathlib_path\u001b[0m\u001b[0;34m(\u001b[0m\u001b[0mfile\u001b[0m\u001b[0;34m)\u001b[0m\u001b[0;34m:\u001b[0m\u001b[0;34m\u001b[0m\u001b[0m\n",
      "\u001b[0;31mFileNotFoundError\u001b[0m: [Errno 2] No such file or directory: '../warning/warning_ids.npy'"
     ]
    }
   ],
   "source": [
    "# load unique warning and passed live_photo_ids\n",
    "warning_ids = np.load('../warning/warning_ids.npy')\n",
    "passed_ids = np.load('../passed/passed_ids.npy')\n",
    "all_ids = list(set(np.concatenate((warning_ids, passed_ids))))\n",
    "all_ids.sort()"
   ]
  },
  {
   "cell_type": "code",
   "execution_count": 5,
   "metadata": {},
   "outputs": [
    {
     "name": "stdout",
     "output_type": "stream",
     "text": [
      "521 4479 830\n",
      "5830\n",
      "5829\n"
     ]
    }
   ],
   "source": [
    "print len(set(warning_ids)), len(set(passed_ids))\n",
    "print len(set(warning_ids)) + len(set(passed_ids))\n",
    "print len(set(np.concatenate((warning_ids, passed_ids))))"
   ]
  },
  {
   "cell_type": "code",
   "execution_count": 7,
   "metadata": {},
   "outputs": [
    {
     "ename": "NameError",
     "evalue": "name 'all_ids' is not defined",
     "output_type": "error",
     "traceback": [
      "\u001b[0;31m---------------------------------------------------------------------------\u001b[0m",
      "\u001b[0;31mNameError\u001b[0m                                 Traceback (most recent call last)",
      "\u001b[0;32m<ipython-input-7-f0b81493d73b>\u001b[0m in \u001b[0;36m<module>\u001b[0;34m()\u001b[0m\n\u001b[1;32m      1\u001b[0m \u001b[0;31m# create table\u001b[0m\u001b[0;34m\u001b[0m\u001b[0;34m\u001b[0m\u001b[0m\n\u001b[1;32m      2\u001b[0m \u001b[0mtable\u001b[0m \u001b[0;34m=\u001b[0m \u001b[0mpd\u001b[0m\u001b[0;34m.\u001b[0m\u001b[0mDataFrame\u001b[0m\u001b[0;34m(\u001b[0m\u001b[0mnp\u001b[0m\u001b[0;34m.\u001b[0m\u001b[0mzeros\u001b[0m\u001b[0;34m(\u001b[0m\u001b[0;34m(\u001b[0m\u001b[0;36m5000\u001b[0m\u001b[0;34m,\u001b[0m\u001b[0;36m4\u001b[0m\u001b[0;34m)\u001b[0m\u001b[0;34m)\u001b[0m\u001b[0;34m,\u001b[0m \u001b[0mcolumns\u001b[0m\u001b[0;34m=\u001b[0m\u001b[0;34m[\u001b[0m\u001b[0;34m'live_photo_id'\u001b[0m\u001b[0;34m,\u001b[0m \u001b[0;34m'manual_label'\u001b[0m\u001b[0;34m,\u001b[0m \u001b[0;34m'spoof_label'\u001b[0m\u001b[0;34m,\u001b[0m \u001b[0;34m'spoof_score'\u001b[0m\u001b[0;34m]\u001b[0m\u001b[0;34m)\u001b[0m\u001b[0;34m\u001b[0m\u001b[0m\n\u001b[0;32m----> 3\u001b[0;31m \u001b[0mtable\u001b[0m\u001b[0;34m[\u001b[0m\u001b[0;34m'live_photo_id'\u001b[0m\u001b[0;34m]\u001b[0m \u001b[0;34m=\u001b[0m \u001b[0mall_ids\u001b[0m\u001b[0;34m\u001b[0m\u001b[0m\n\u001b[0m\u001b[1;32m      4\u001b[0m \u001b[0mtable\u001b[0m\u001b[0;34m[\u001b[0m\u001b[0;34m'manual_label'\u001b[0m\u001b[0;34m]\u001b[0m \u001b[0;34m=\u001b[0m \u001b[0mtable\u001b[0m\u001b[0;34m[\u001b[0m\u001b[0;34m'manual_label'\u001b[0m\u001b[0;34m]\u001b[0m\u001b[0;34m.\u001b[0m\u001b[0mapply\u001b[0m\u001b[0;34m(\u001b[0m\u001b[0mstr\u001b[0m\u001b[0;34m)\u001b[0m\u001b[0;34m\u001b[0m\u001b[0m\n\u001b[1;32m      5\u001b[0m \u001b[0mtable\u001b[0m\u001b[0;34m[\u001b[0m\u001b[0;34m'spoof_label'\u001b[0m\u001b[0;34m]\u001b[0m \u001b[0;34m=\u001b[0m \u001b[0mtable\u001b[0m\u001b[0;34m[\u001b[0m\u001b[0;34m'spoof_label'\u001b[0m\u001b[0;34m]\u001b[0m\u001b[0;34m.\u001b[0m\u001b[0mapply\u001b[0m\u001b[0;34m(\u001b[0m\u001b[0mstr\u001b[0m\u001b[0;34m)\u001b[0m\u001b[0;34m\u001b[0m\u001b[0m\n",
      "\u001b[0;31mNameError\u001b[0m: name 'all_ids' is not defined"
     ]
    }
   ],
   "source": [
    "# create table\n",
    "table = pd.DataFrame(np.zeros((5000,4)), columns=['live_photo_id', 'manual_label', 'spoof_label', 'spoof_score'])\n",
    "table['live_photo_id'] = all_ids\n",
    "table['manual_label'] = table['manual_label'].apply(str)\n",
    "table['spoof_label'] = table['spoof_label'].apply(str)\n",
    "table['spoof_label'] = 'None'\n",
    "table['jonne_label'] = ''\n",
    "# loop through table and set manual_label to warning or passed\n",
    "for index, row in table.iterrows():\n",
    "    photo_id = row['live_photo_id']\n",
    "    if photo_id in warning_ids: table.set_value(index, 'manual_label', 'warning')\n",
    "    if photo_id in passed_ids: table.set_value(index, 'manual_label', 'passed')"
   ]
  },
  {
   "cell_type": "code",
   "execution_count": 6,
   "metadata": {},
   "outputs": [
    {
     "ename": "NameError",
     "evalue": "name 'table' is not defined",
     "output_type": "error",
     "traceback": [
      "\u001b[0;31m---------------------------------------------------------------------------\u001b[0m",
      "\u001b[0;31mNameError\u001b[0m                                 Traceback (most recent call last)",
      "\u001b[0;32m<ipython-input-6-c5e7b7ab39e8>\u001b[0m in \u001b[0;36m<module>\u001b[0;34m()\u001b[0m\n\u001b[1;32m      1\u001b[0m \u001b[0;31m# loop through table and set spoof_detection to the predicted spoof score using spoof_detection\u001b[0m\u001b[0;34m\u001b[0m\u001b[0;34m\u001b[0m\u001b[0m\n\u001b[0;32m----> 2\u001b[0;31m \u001b[0;32mfor\u001b[0m \u001b[0mindex\u001b[0m\u001b[0;34m,\u001b[0m \u001b[0mrow\u001b[0m \u001b[0;32min\u001b[0m \u001b[0mtable\u001b[0m\u001b[0;34m.\u001b[0m\u001b[0miterrows\u001b[0m\u001b[0;34m(\u001b[0m\u001b[0;34m)\u001b[0m\u001b[0;34m:\u001b[0m\u001b[0;34m\u001b[0m\u001b[0m\n\u001b[0m\u001b[1;32m      3\u001b[0m     \u001b[0mphoto_id\u001b[0m \u001b[0;34m=\u001b[0m \u001b[0mrow\u001b[0m\u001b[0;34m[\u001b[0m\u001b[0;34m'live_photo_id'\u001b[0m\u001b[0;34m]\u001b[0m\u001b[0;34m\u001b[0m\u001b[0m\n\u001b[1;32m      4\u001b[0m     \u001b[0mprediction\u001b[0m \u001b[0;34m=\u001b[0m \u001b[0mspoof_detection\u001b[0m\u001b[0;34m.\u001b[0m\u001b[0mpredict\u001b[0m\u001b[0;34m(\u001b[0m\u001b[0mphoto_id\u001b[0m\u001b[0;34m)\u001b[0m\u001b[0;34m\u001b[0m\u001b[0m\n\u001b[1;32m      5\u001b[0m \u001b[0;34m\u001b[0m\u001b[0m\n",
      "\u001b[0;31mNameError\u001b[0m: name 'table' is not defined"
     ]
    }
   ],
   "source": [
    "# loop through table and set spoof_detection to the predicted spoof score using spoof_detection\n",
    "for index, row in table.iterrows():\n",
    "    photo_id = row['live_photo_id']\n",
    "    prediction = spoof_detection.predict(photo_id)\n",
    "    \n",
    "    if type(prediction) is str:\n",
    "        table.set_value(index, 'spoof_label', prediction)\n",
    "    else:\n",
    "        table.set_value(index, 'spoof_score', prediction)\n",
    "        if prediction < 0.925:\n",
    "            table.set_value(index, 'spoof_label', 'spoof')\n",
    "        else:\n",
    "            table.set_value(index, 'spoof_label', 'passed')\n",
    "        \n",
    "    print (index)"
   ]
  },
  {
   "cell_type": "code",
   "execution_count": 6,
   "metadata": {
    "collapsed": true
   },
   "outputs": [],
   "source": [
    "#writer = pd.ExcelWriter('anti-spoof-patch-based.xlsx')\n",
    "#table.to_excel(writer,'Sheet1')\n",
    "#writer.save()"
   ]
  },
  {
   "cell_type": "code",
   "execution_count": 7,
   "metadata": {
    "collapsed": true
   },
   "outputs": [],
   "source": [
    "# get labeled spoofs\n",
    "import os\n",
    "folder = '../warning/sorted'\n",
    "folders = ['gen', 'pop', 'pod', 'pos', 'etc', 'unknown']\n",
    "labels = ['genuine selfie', 'picture attack', 'document attack', 'screen attack', 'camera defect', 'uncertain spoof']\n",
    "def check_folder(live_id):\n",
    "    for sub, label in zip(folders, labels):\n",
    "        if os.path.exists(os.path.join(folder,sub,str(live_id)+'.png')):\n",
    "            return label"
   ]
  },
  {
   "cell_type": "code",
   "execution_count": 8,
   "metadata": {
    "collapsed": true
   },
   "outputs": [],
   "source": [
    "# loop through table\n",
    "for index, row in table.iterrows():\n",
    "    photo_id = row['live_photo_id']\n",
    "    label = check_folder(photo_id)\n",
    "    table.set_value(index, 'jonne_label', label)\n",
    "    "
   ]
  },
  {
   "cell_type": "code",
   "execution_count": 9,
   "metadata": {},
   "outputs": [
    {
     "name": "stdout",
     "output_type": "stream",
     "text": [
      "      live_photo_id manual_label             spoof_label  spoof_score  \\\n",
      "0            186370       passed                   spoof     0.996201   \n",
      "1            313856      warning                  passed     0.002434   \n",
      "2            439505       passed                   spoof     0.998563   \n",
      "3            549714      warning                  passed     0.062495   \n",
      "4            558681      warning                  passed     0.002560   \n",
      "5            578999      warning                  passed     0.000165   \n",
      "6            606128      warning                  passed     0.011200   \n",
      "7            606469      warning                  passed     0.000093   \n",
      "8            606763      warning                   spoof     0.941019   \n",
      "9            607571      warning                  passed     0.007935   \n",
      "10           607616      warning                  passed     0.004856   \n",
      "11           607829      warning                  passed     0.076798   \n",
      "12           608191      warning                  passed     0.005071   \n",
      "13           608475      warning                  passed     0.008277   \n",
      "14           608626      warning                  passed     0.000934   \n",
      "15           609392      warning  failed: face detection     0.000000   \n",
      "16           609421      warning                  passed     0.050580   \n",
      "17           609836      warning                  passed     0.022344   \n",
      "18           610752      warning  failed: face detection     0.000000   \n",
      "19           610840      warning  failed: face detection     0.000000   \n",
      "20           610986      warning                  passed     0.097698   \n",
      "21           611140      warning                   spoof     0.974698   \n",
      "22           611160      warning                   spoof     0.975932   \n",
      "23           611334      warning                  passed     0.001505   \n",
      "24           611578      warning                  passed     0.000923   \n",
      "25           611699      warning                  passed     0.011290   \n",
      "26           611976      warning                  passed     0.003685   \n",
      "27           612142      warning                  passed     0.001599   \n",
      "28           613069      warning                  passed     0.025615   \n",
      "29           613109      warning                  passed     0.049658   \n",
      "...             ...          ...                     ...          ...   \n",
      "4970         820465       passed                   spoof     0.999766   \n",
      "4971         820469       passed                   spoof     0.998580   \n",
      "4972         820479       passed                   spoof     0.999992   \n",
      "4973         820481       passed                   spoof     0.999714   \n",
      "4974         820485       passed                   spoof     0.999723   \n",
      "4975         820491       passed                   spoof     0.997884   \n",
      "4976         820498       passed                   spoof     0.999927   \n",
      "4977         820502       passed                   spoof     0.991941   \n",
      "4978         820503       passed                   spoof     0.999800   \n",
      "4979         820515       passed                   spoof     0.881999   \n",
      "4980         820524       passed                   spoof     0.935328   \n",
      "4981         820527       passed                   spoof     0.995398   \n",
      "4982         820539       passed                   spoof     0.998403   \n",
      "4983         820540       passed                   spoof     0.997295   \n",
      "4984         820546       passed                   spoof     0.999901   \n",
      "4985         820547       passed  failed: face detection     0.000000   \n",
      "4986         820550       passed                   spoof     0.999990   \n",
      "4987         820555       passed                   spoof     0.997063   \n",
      "4988         820559       passed                   spoof     0.998794   \n",
      "4989         820562       passed                   spoof     0.999965   \n",
      "4990         820565       passed                   spoof     0.920983   \n",
      "4991         820569       passed                   spoof     0.985708   \n",
      "4992         820573       passed                   spoof     0.992594   \n",
      "4993         820576       passed                   spoof     0.999994   \n",
      "4994         820578       passed                   spoof     0.999403   \n",
      "4995         820579       passed                   spoof     0.998618   \n",
      "4996         820608       passed                   spoof     0.991371   \n",
      "4997         820618       passed                  passed     0.124674   \n",
      "4998         820620       passed                   spoof     0.999428   \n",
      "4999         820623       passed                   spoof     0.992200   \n",
      "\n",
      "          jonne_label  \n",
      "0                None  \n",
      "1     document attack  \n",
      "2                None  \n",
      "3       screen attack  \n",
      "4     document attack  \n",
      "5       screen attack  \n",
      "6       screen attack  \n",
      "7      picture attack  \n",
      "8      genuine selfie  \n",
      "9       screen attack  \n",
      "10      screen attack  \n",
      "11      screen attack  \n",
      "12     picture attack  \n",
      "13    document attack  \n",
      "14    document attack  \n",
      "15     picture attack  \n",
      "16     picture attack  \n",
      "17      screen attack  \n",
      "18      camera defect  \n",
      "19      camera defect  \n",
      "20      screen attack  \n",
      "21      screen attack  \n",
      "22      screen attack  \n",
      "23     picture attack  \n",
      "24    document attack  \n",
      "25     picture attack  \n",
      "26      screen attack  \n",
      "27     picture attack  \n",
      "28     picture attack  \n",
      "29     picture attack  \n",
      "...               ...  \n",
      "4970             None  \n",
      "4971             None  \n",
      "4972             None  \n",
      "4973             None  \n",
      "4974             None  \n",
      "4975             None  \n",
      "4976             None  \n",
      "4977             None  \n",
      "4978             None  \n",
      "4979             None  \n",
      "4980             None  \n",
      "4981             None  \n",
      "4982             None  \n",
      "4983             None  \n",
      "4984             None  \n",
      "4985             None  \n",
      "4986             None  \n",
      "4987             None  \n",
      "4988             None  \n",
      "4989             None  \n",
      "4990             None  \n",
      "4991             None  \n",
      "4992             None  \n",
      "4993             None  \n",
      "4994             None  \n",
      "4995             None  \n",
      "4996             None  \n",
      "4997             None  \n",
      "4998             None  \n",
      "4999             None  \n",
      "\n",
      "[5000 rows x 5 columns]\n"
     ]
    }
   ],
   "source": [
    "print table"
   ]
  },
  {
   "cell_type": "code",
   "execution_count": 10,
   "metadata": {
    "collapsed": true
   },
   "outputs": [],
   "source": [
    "writer = pd.ExcelWriter('anti-spoof-patch-results-patchnormlr3-averagesoftmax.xlsx')\n",
    "table.to_excel(writer,'Sheet1')\n",
    "writer.save()"
   ]
  },
  {
   "cell_type": "code",
   "execution_count": null,
   "metadata": {
    "collapsed": true
   },
   "outputs": [],
   "source": []
  }
 ],
 "metadata": {
  "kernelspec": {
   "display_name": "Python 3",
   "language": "python",
   "name": "python3"
  },
  "language_info": {
   "codemirror_mode": {
    "name": "ipython",
    "version": 3
   },
   "file_extension": ".py",
   "mimetype": "text/x-python",
   "name": "python",
   "nbconvert_exporter": "python",
   "pygments_lexer": "ipython3",
   "version": "3.6.2"
  }
 },
 "nbformat": 4,
 "nbformat_minor": 2
}
